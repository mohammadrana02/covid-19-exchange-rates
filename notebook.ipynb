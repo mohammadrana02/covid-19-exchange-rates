{
 "cells": [
  {
   "cell_type": "markdown",
   "metadata": {},
   "source": [
    "# The effect of COVID-19 on the EUR-USD exchange rate"
   ]
  },
  {
   "cell_type": "markdown",
   "metadata": {},
   "source": [
    "The dataset we'll be looking at describes the Euro daily exchange rates between 1999 and 2021.\n",
    "\n",
    "The aim of this project is to show how the euro-dollar rate changed during the coronovirus pandemic."
   ]
  },
  {
   "cell_type": "code",
   "execution_count": 17,
   "metadata": {},
   "outputs": [],
   "source": [
    "import pandas as pd"
   ]
  },
  {
   "cell_type": "code",
   "execution_count": 18,
   "metadata": {},
   "outputs": [
    {
     "data": {
      "text/html": [
       "<div>\n",
       "<style scoped>\n",
       "    .dataframe tbody tr th:only-of-type {\n",
       "        vertical-align: middle;\n",
       "    }\n",
       "\n",
       "    .dataframe tbody tr th {\n",
       "        vertical-align: top;\n",
       "    }\n",
       "\n",
       "    .dataframe thead th {\n",
       "        text-align: right;\n",
       "    }\n",
       "</style>\n",
       "<table border=\"1\" class=\"dataframe\">\n",
       "  <thead>\n",
       "    <tr style=\"text-align: right;\">\n",
       "      <th></th>\n",
       "      <th>Period\\Unit:</th>\n",
       "      <th>[Australian dollar ]</th>\n",
       "      <th>[Bulgarian lev ]</th>\n",
       "      <th>[Brazilian real ]</th>\n",
       "      <th>[Canadian dollar ]</th>\n",
       "      <th>[Swiss franc ]</th>\n",
       "      <th>[Chinese yuan renminbi ]</th>\n",
       "      <th>[Cypriot pound ]</th>\n",
       "      <th>[Czech koruna ]</th>\n",
       "      <th>[Danish krone ]</th>\n",
       "      <th>...</th>\n",
       "      <th>[Romanian leu ]</th>\n",
       "      <th>[Russian rouble ]</th>\n",
       "      <th>[Swedish krona ]</th>\n",
       "      <th>[Singapore dollar ]</th>\n",
       "      <th>[Slovenian tolar ]</th>\n",
       "      <th>[Slovak koruna ]</th>\n",
       "      <th>[Thai baht ]</th>\n",
       "      <th>[Turkish lira ]</th>\n",
       "      <th>[US dollar ]</th>\n",
       "      <th>[South African rand ]</th>\n",
       "    </tr>\n",
       "  </thead>\n",
       "  <tbody>\n",
       "    <tr>\n",
       "      <th>0</th>\n",
       "      <td>2021-01-08</td>\n",
       "      <td>1.5758</td>\n",
       "      <td>1.9558</td>\n",
       "      <td>6.5748</td>\n",
       "      <td>1.5543</td>\n",
       "      <td>1.0827</td>\n",
       "      <td>7.9184</td>\n",
       "      <td>NaN</td>\n",
       "      <td>26.163</td>\n",
       "      <td>7.4369</td>\n",
       "      <td>...</td>\n",
       "      <td>4.8708</td>\n",
       "      <td>90.8000</td>\n",
       "      <td>10.0510</td>\n",
       "      <td>1.6228</td>\n",
       "      <td>NaN</td>\n",
       "      <td>NaN</td>\n",
       "      <td>36.8480</td>\n",
       "      <td>9.0146</td>\n",
       "      <td>1.2250</td>\n",
       "      <td>18.7212</td>\n",
       "    </tr>\n",
       "    <tr>\n",
       "      <th>1</th>\n",
       "      <td>2021-01-07</td>\n",
       "      <td>1.5836</td>\n",
       "      <td>1.9558</td>\n",
       "      <td>6.5172</td>\n",
       "      <td>1.5601</td>\n",
       "      <td>1.0833</td>\n",
       "      <td>7.9392</td>\n",
       "      <td>NaN</td>\n",
       "      <td>26.147</td>\n",
       "      <td>7.4392</td>\n",
       "      <td>...</td>\n",
       "      <td>4.8712</td>\n",
       "      <td>91.2000</td>\n",
       "      <td>10.0575</td>\n",
       "      <td>1.6253</td>\n",
       "      <td>NaN</td>\n",
       "      <td>NaN</td>\n",
       "      <td>36.8590</td>\n",
       "      <td>8.9987</td>\n",
       "      <td>1.2276</td>\n",
       "      <td>18.7919</td>\n",
       "    </tr>\n",
       "    <tr>\n",
       "      <th>2</th>\n",
       "      <td>2021-01-06</td>\n",
       "      <td>1.5824</td>\n",
       "      <td>1.9558</td>\n",
       "      <td>6.5119</td>\n",
       "      <td>1.5640</td>\n",
       "      <td>1.0821</td>\n",
       "      <td>7.9653</td>\n",
       "      <td>NaN</td>\n",
       "      <td>26.145</td>\n",
       "      <td>7.4393</td>\n",
       "      <td>...</td>\n",
       "      <td>4.8720</td>\n",
       "      <td>90.8175</td>\n",
       "      <td>10.0653</td>\n",
       "      <td>1.6246</td>\n",
       "      <td>NaN</td>\n",
       "      <td>NaN</td>\n",
       "      <td>36.9210</td>\n",
       "      <td>9.0554</td>\n",
       "      <td>1.2338</td>\n",
       "      <td>18.5123</td>\n",
       "    </tr>\n",
       "    <tr>\n",
       "      <th>3</th>\n",
       "      <td>2021-01-05</td>\n",
       "      <td>1.5927</td>\n",
       "      <td>1.9558</td>\n",
       "      <td>6.5517</td>\n",
       "      <td>1.5651</td>\n",
       "      <td>1.0803</td>\n",
       "      <td>7.9315</td>\n",
       "      <td>NaN</td>\n",
       "      <td>26.227</td>\n",
       "      <td>7.4387</td>\n",
       "      <td>...</td>\n",
       "      <td>4.8721</td>\n",
       "      <td>91.6715</td>\n",
       "      <td>10.0570</td>\n",
       "      <td>1.6180</td>\n",
       "      <td>NaN</td>\n",
       "      <td>NaN</td>\n",
       "      <td>36.7760</td>\n",
       "      <td>9.0694</td>\n",
       "      <td>1.2271</td>\n",
       "      <td>18.4194</td>\n",
       "    </tr>\n",
       "    <tr>\n",
       "      <th>4</th>\n",
       "      <td>2021-01-04</td>\n",
       "      <td>1.5928</td>\n",
       "      <td>1.9558</td>\n",
       "      <td>6.3241</td>\n",
       "      <td>1.5621</td>\n",
       "      <td>1.0811</td>\n",
       "      <td>7.9484</td>\n",
       "      <td>NaN</td>\n",
       "      <td>26.141</td>\n",
       "      <td>7.4379</td>\n",
       "      <td>...</td>\n",
       "      <td>4.8713</td>\n",
       "      <td>90.3420</td>\n",
       "      <td>10.0895</td>\n",
       "      <td>1.6198</td>\n",
       "      <td>NaN</td>\n",
       "      <td>NaN</td>\n",
       "      <td>36.7280</td>\n",
       "      <td>9.0579</td>\n",
       "      <td>1.2296</td>\n",
       "      <td>17.9214</td>\n",
       "    </tr>\n",
       "  </tbody>\n",
       "</table>\n",
       "<p>5 rows × 41 columns</p>\n",
       "</div>"
      ],
      "text/plain": [
       "  Period\\Unit: [Australian dollar ] [Bulgarian lev ] [Brazilian real ]  \\\n",
       "0   2021-01-08               1.5758           1.9558            6.5748   \n",
       "1   2021-01-07               1.5836           1.9558            6.5172   \n",
       "2   2021-01-06               1.5824           1.9558            6.5119   \n",
       "3   2021-01-05               1.5927           1.9558            6.5517   \n",
       "4   2021-01-04               1.5928           1.9558            6.3241   \n",
       "\n",
       "  [Canadian dollar ] [Swiss franc ] [Chinese yuan renminbi ] [Cypriot pound ]  \\\n",
       "0             1.5543         1.0827                   7.9184              NaN   \n",
       "1             1.5601         1.0833                   7.9392              NaN   \n",
       "2             1.5640         1.0821                   7.9653              NaN   \n",
       "3             1.5651         1.0803                   7.9315              NaN   \n",
       "4             1.5621         1.0811                   7.9484              NaN   \n",
       "\n",
       "  [Czech koruna ] [Danish krone ]  ... [Romanian leu ] [Russian rouble ]  \\\n",
       "0          26.163          7.4369  ...          4.8708           90.8000   \n",
       "1          26.147          7.4392  ...          4.8712           91.2000   \n",
       "2          26.145          7.4393  ...          4.8720           90.8175   \n",
       "3          26.227          7.4387  ...          4.8721           91.6715   \n",
       "4          26.141          7.4379  ...          4.8713           90.3420   \n",
       "\n",
       "  [Swedish krona ] [Singapore dollar ] [Slovenian tolar ] [Slovak koruna ]  \\\n",
       "0          10.0510              1.6228                NaN              NaN   \n",
       "1          10.0575              1.6253                NaN              NaN   \n",
       "2          10.0653              1.6246                NaN              NaN   \n",
       "3          10.0570              1.6180                NaN              NaN   \n",
       "4          10.0895              1.6198                NaN              NaN   \n",
       "\n",
       "  [Thai baht ] [Turkish lira ] [US dollar ]  [South African rand ]  \n",
       "0      36.8480          9.0146       1.2250                18.7212  \n",
       "1      36.8590          8.9987       1.2276                18.7919  \n",
       "2      36.9210          9.0554       1.2338                18.5123  \n",
       "3      36.7760          9.0694       1.2271                18.4194  \n",
       "4      36.7280          9.0579       1.2296                17.9214  \n",
       "\n",
       "[5 rows x 41 columns]"
      ]
     },
     "execution_count": 18,
     "metadata": {},
     "output_type": "execute_result"
    }
   ],
   "source": [
    "exchange_rates = pd.read_csv(\"euro-daily-hist_1999_2020.csv\")\n",
    "exchange_rates.head()"
   ]
  },
  {
   "cell_type": "code",
   "execution_count": 19,
   "metadata": {},
   "outputs": [
    {
     "data": {
      "text/html": [
       "<div>\n",
       "<style scoped>\n",
       "    .dataframe tbody tr th:only-of-type {\n",
       "        vertical-align: middle;\n",
       "    }\n",
       "\n",
       "    .dataframe tbody tr th {\n",
       "        vertical-align: top;\n",
       "    }\n",
       "\n",
       "    .dataframe thead th {\n",
       "        text-align: right;\n",
       "    }\n",
       "</style>\n",
       "<table border=\"1\" class=\"dataframe\">\n",
       "  <thead>\n",
       "    <tr style=\"text-align: right;\">\n",
       "      <th></th>\n",
       "      <th>Period\\Unit:</th>\n",
       "      <th>[Australian dollar ]</th>\n",
       "      <th>[Bulgarian lev ]</th>\n",
       "      <th>[Brazilian real ]</th>\n",
       "      <th>[Canadian dollar ]</th>\n",
       "      <th>[Swiss franc ]</th>\n",
       "      <th>[Chinese yuan renminbi ]</th>\n",
       "      <th>[Cypriot pound ]</th>\n",
       "      <th>[Czech koruna ]</th>\n",
       "      <th>[Danish krone ]</th>\n",
       "      <th>...</th>\n",
       "      <th>[Romanian leu ]</th>\n",
       "      <th>[Russian rouble ]</th>\n",
       "      <th>[Swedish krona ]</th>\n",
       "      <th>[Singapore dollar ]</th>\n",
       "      <th>[Slovenian tolar ]</th>\n",
       "      <th>[Slovak koruna ]</th>\n",
       "      <th>[Thai baht ]</th>\n",
       "      <th>[Turkish lira ]</th>\n",
       "      <th>[US dollar ]</th>\n",
       "      <th>[South African rand ]</th>\n",
       "    </tr>\n",
       "  </thead>\n",
       "  <tbody>\n",
       "    <tr>\n",
       "      <th>5694</th>\n",
       "      <td>1999-01-08</td>\n",
       "      <td>1.8406</td>\n",
       "      <td>NaN</td>\n",
       "      <td>NaN</td>\n",
       "      <td>1.7643</td>\n",
       "      <td>1.6138</td>\n",
       "      <td>NaN</td>\n",
       "      <td>0.58187</td>\n",
       "      <td>34.938</td>\n",
       "      <td>7.4433</td>\n",
       "      <td>...</td>\n",
       "      <td>1.3143</td>\n",
       "      <td>27.2075</td>\n",
       "      <td>9.1650</td>\n",
       "      <td>1.9537</td>\n",
       "      <td>188.8400</td>\n",
       "      <td>42.560</td>\n",
       "      <td>42.5590</td>\n",
       "      <td>0.3718</td>\n",
       "      <td>1.1659</td>\n",
       "      <td>6.7855</td>\n",
       "    </tr>\n",
       "    <tr>\n",
       "      <th>5695</th>\n",
       "      <td>1999-01-07</td>\n",
       "      <td>1.8474</td>\n",
       "      <td>NaN</td>\n",
       "      <td>NaN</td>\n",
       "      <td>1.7602</td>\n",
       "      <td>1.6165</td>\n",
       "      <td>NaN</td>\n",
       "      <td>0.58187</td>\n",
       "      <td>34.886</td>\n",
       "      <td>7.4431</td>\n",
       "      <td>...</td>\n",
       "      <td>1.3092</td>\n",
       "      <td>26.9876</td>\n",
       "      <td>9.1800</td>\n",
       "      <td>1.9436</td>\n",
       "      <td>188.8000</td>\n",
       "      <td>42.765</td>\n",
       "      <td>42.1678</td>\n",
       "      <td>0.3701</td>\n",
       "      <td>1.1632</td>\n",
       "      <td>6.8283</td>\n",
       "    </tr>\n",
       "    <tr>\n",
       "      <th>5696</th>\n",
       "      <td>1999-01-06</td>\n",
       "      <td>1.8820</td>\n",
       "      <td>NaN</td>\n",
       "      <td>NaN</td>\n",
       "      <td>1.7711</td>\n",
       "      <td>1.6116</td>\n",
       "      <td>NaN</td>\n",
       "      <td>0.58200</td>\n",
       "      <td>34.850</td>\n",
       "      <td>7.4452</td>\n",
       "      <td>...</td>\n",
       "      <td>1.3168</td>\n",
       "      <td>27.4315</td>\n",
       "      <td>9.3050</td>\n",
       "      <td>1.9699</td>\n",
       "      <td>188.7000</td>\n",
       "      <td>42.778</td>\n",
       "      <td>42.6949</td>\n",
       "      <td>0.3722</td>\n",
       "      <td>1.1743</td>\n",
       "      <td>6.7307</td>\n",
       "    </tr>\n",
       "    <tr>\n",
       "      <th>5697</th>\n",
       "      <td>1999-01-05</td>\n",
       "      <td>1.8944</td>\n",
       "      <td>NaN</td>\n",
       "      <td>NaN</td>\n",
       "      <td>1.7965</td>\n",
       "      <td>1.6123</td>\n",
       "      <td>NaN</td>\n",
       "      <td>0.58230</td>\n",
       "      <td>34.917</td>\n",
       "      <td>7.4495</td>\n",
       "      <td>...</td>\n",
       "      <td>1.3168</td>\n",
       "      <td>26.5876</td>\n",
       "      <td>9.4025</td>\n",
       "      <td>1.9655</td>\n",
       "      <td>188.7750</td>\n",
       "      <td>42.848</td>\n",
       "      <td>42.5048</td>\n",
       "      <td>0.3728</td>\n",
       "      <td>1.1790</td>\n",
       "      <td>6.7975</td>\n",
       "    </tr>\n",
       "    <tr>\n",
       "      <th>5698</th>\n",
       "      <td>1999-01-04</td>\n",
       "      <td>1.9100</td>\n",
       "      <td>NaN</td>\n",
       "      <td>NaN</td>\n",
       "      <td>1.8004</td>\n",
       "      <td>1.6168</td>\n",
       "      <td>NaN</td>\n",
       "      <td>0.58231</td>\n",
       "      <td>35.107</td>\n",
       "      <td>7.4501</td>\n",
       "      <td>...</td>\n",
       "      <td>1.3111</td>\n",
       "      <td>25.2875</td>\n",
       "      <td>9.4696</td>\n",
       "      <td>1.9554</td>\n",
       "      <td>189.0450</td>\n",
       "      <td>42.991</td>\n",
       "      <td>42.6799</td>\n",
       "      <td>0.3723</td>\n",
       "      <td>1.1789</td>\n",
       "      <td>6.9358</td>\n",
       "    </tr>\n",
       "  </tbody>\n",
       "</table>\n",
       "<p>5 rows × 41 columns</p>\n",
       "</div>"
      ],
      "text/plain": [
       "     Period\\Unit: [Australian dollar ] [Bulgarian lev ] [Brazilian real ]  \\\n",
       "5694   1999-01-08               1.8406              NaN               NaN   \n",
       "5695   1999-01-07               1.8474              NaN               NaN   \n",
       "5696   1999-01-06               1.8820              NaN               NaN   \n",
       "5697   1999-01-05               1.8944              NaN               NaN   \n",
       "5698   1999-01-04               1.9100              NaN               NaN   \n",
       "\n",
       "     [Canadian dollar ] [Swiss franc ] [Chinese yuan renminbi ]  \\\n",
       "5694             1.7643         1.6138                      NaN   \n",
       "5695             1.7602         1.6165                      NaN   \n",
       "5696             1.7711         1.6116                      NaN   \n",
       "5697             1.7965         1.6123                      NaN   \n",
       "5698             1.8004         1.6168                      NaN   \n",
       "\n",
       "     [Cypriot pound ] [Czech koruna ] [Danish krone ]  ... [Romanian leu ]  \\\n",
       "5694          0.58187          34.938          7.4433  ...          1.3143   \n",
       "5695          0.58187          34.886          7.4431  ...          1.3092   \n",
       "5696          0.58200          34.850          7.4452  ...          1.3168   \n",
       "5697          0.58230          34.917          7.4495  ...          1.3168   \n",
       "5698          0.58231          35.107          7.4501  ...          1.3111   \n",
       "\n",
       "     [Russian rouble ] [Swedish krona ] [Singapore dollar ]  \\\n",
       "5694           27.2075           9.1650              1.9537   \n",
       "5695           26.9876           9.1800              1.9436   \n",
       "5696           27.4315           9.3050              1.9699   \n",
       "5697           26.5876           9.4025              1.9655   \n",
       "5698           25.2875           9.4696              1.9554   \n",
       "\n",
       "     [Slovenian tolar ] [Slovak koruna ] [Thai baht ] [Turkish lira ]  \\\n",
       "5694           188.8400           42.560      42.5590          0.3718   \n",
       "5695           188.8000           42.765      42.1678          0.3701   \n",
       "5696           188.7000           42.778      42.6949          0.3722   \n",
       "5697           188.7750           42.848      42.5048          0.3728   \n",
       "5698           189.0450           42.991      42.6799          0.3723   \n",
       "\n",
       "     [US dollar ]  [South African rand ]  \n",
       "5694       1.1659                 6.7855  \n",
       "5695       1.1632                 6.8283  \n",
       "5696       1.1743                 6.7307  \n",
       "5697       1.1790                 6.7975  \n",
       "5698       1.1789                 6.9358  \n",
       "\n",
       "[5 rows x 41 columns]"
      ]
     },
     "execution_count": 19,
     "metadata": {},
     "output_type": "execute_result"
    }
   ],
   "source": [
    "exchange_rates.tail()"
   ]
  },
  {
   "cell_type": "code",
   "execution_count": 20,
   "metadata": {},
   "outputs": [
    {
     "name": "stdout",
     "output_type": "stream",
     "text": [
      "<class 'pandas.core.frame.DataFrame'>\n",
      "RangeIndex: 5699 entries, 0 to 5698\n",
      "Data columns (total 41 columns):\n",
      " #   Column                    Non-Null Count  Dtype  \n",
      "---  ------                    --------------  -----  \n",
      " 0   Period\\Unit:              5699 non-null   object \n",
      " 1   [Australian dollar ]      5699 non-null   object \n",
      " 2   [Bulgarian lev ]          5297 non-null   object \n",
      " 3   [Brazilian real ]         5431 non-null   object \n",
      " 4   [Canadian dollar ]        5699 non-null   object \n",
      " 5   [Swiss franc ]            5699 non-null   object \n",
      " 6   [Chinese yuan renminbi ]  5431 non-null   object \n",
      " 7   [Cypriot pound ]          2346 non-null   object \n",
      " 8   [Czech koruna ]           5699 non-null   object \n",
      " 9   [Danish krone ]           5699 non-null   object \n",
      " 10  [Estonian kroon ]         3130 non-null   object \n",
      " 11  [UK pound sterling ]      5699 non-null   object \n",
      " 12  [Greek drachma ]          520 non-null    object \n",
      " 13  [Hong Kong dollar ]       5699 non-null   object \n",
      " 14  [Croatian kuna ]          5431 non-null   object \n",
      " 15  [Hungarian forint ]       5699 non-null   object \n",
      " 16  [Indonesian rupiah ]      5699 non-null   object \n",
      " 17  [Israeli shekel ]         5431 non-null   object \n",
      " 18  [Indian rupee ]           5431 non-null   object \n",
      " 19  [Iceland krona ]          3292 non-null   float64\n",
      " 20  [Japanese yen ]           5699 non-null   object \n",
      " 21  [Korean won ]             5699 non-null   object \n",
      " 22  [Lithuanian litas ]       4159 non-null   object \n",
      " 23  [Latvian lats ]           3904 non-null   object \n",
      " 24  [Maltese lira ]           2346 non-null   object \n",
      " 25  [Mexican peso ]           5699 non-null   object \n",
      " 26  [Malaysian ringgit ]      5699 non-null   object \n",
      " 27  [Norwegian krone ]        5699 non-null   object \n",
      " 28  [New Zealand dollar ]     5699 non-null   object \n",
      " 29  [Philippine peso ]        5699 non-null   object \n",
      " 30  [Polish zloty ]           5699 non-null   object \n",
      " 31  [Romanian leu ]           5637 non-null   float64\n",
      " 32  [Russian rouble ]         5699 non-null   object \n",
      " 33  [Swedish krona ]          5699 non-null   object \n",
      " 34  [Singapore dollar ]       5699 non-null   object \n",
      " 35  [Slovenian tolar ]        2085 non-null   object \n",
      " 36  [Slovak koruna ]          2608 non-null   object \n",
      " 37  [Thai baht ]              5699 non-null   object \n",
      " 38  [Turkish lira ]           5637 non-null   float64\n",
      " 39  [US dollar ]              5699 non-null   object \n",
      " 40  [South African rand ]     5699 non-null   object \n",
      "dtypes: float64(3), object(38)\n",
      "memory usage: 1.8+ MB\n"
     ]
    }
   ],
   "source": [
    "exchange_rates.info()"
   ]
  },
  {
   "cell_type": "markdown",
   "metadata": {},
   "source": [
    "This dataset contains 5699 rows and 41 colums. There are a number of colums which have null values. Some colums are missing less than 100 values such as the Turkish lira with 5637/5699 values. The greek drachma has the lowest number of non-null values at 520.\n",
    "\n",
    "The data type of most of the colums is also an object rather than a float. Only three of the columns have float values while the other 38 are objects.\n",
    "\n",
    "Since our focus will be on the USD colums, we will only clean that column."
   ]
  },
  {
   "cell_type": "code",
   "execution_count": 21,
   "metadata": {},
   "outputs": [],
   "source": [
    "exchange_rates.rename(columns={'[US dollar ]': 'US_dollar',\n",
    "                               'Period\\\\Unit:': 'Time'},\n",
    "                      inplace=True)\n",
    "exchange_rates['Time'] = pd.to_datetime(exchange_rates['Time'])\n",
    "exchange_rates.sort_values('Time', inplace=True)\n",
    "exchange_rates.reset_index(drop=True, inplace=True)"
   ]
  },
  {
   "cell_type": "code",
   "execution_count": 22,
   "metadata": {},
   "outputs": [
    {
     "data": {
      "text/html": [
       "<div>\n",
       "<style scoped>\n",
       "    .dataframe tbody tr th:only-of-type {\n",
       "        vertical-align: middle;\n",
       "    }\n",
       "\n",
       "    .dataframe tbody tr th {\n",
       "        vertical-align: top;\n",
       "    }\n",
       "\n",
       "    .dataframe thead th {\n",
       "        text-align: right;\n",
       "    }\n",
       "</style>\n",
       "<table border=\"1\" class=\"dataframe\">\n",
       "  <thead>\n",
       "    <tr style=\"text-align: right;\">\n",
       "      <th></th>\n",
       "      <th>Time</th>\n",
       "      <th>[Australian dollar ]</th>\n",
       "      <th>[Bulgarian lev ]</th>\n",
       "      <th>[Brazilian real ]</th>\n",
       "      <th>[Canadian dollar ]</th>\n",
       "      <th>[Swiss franc ]</th>\n",
       "      <th>[Chinese yuan renminbi ]</th>\n",
       "      <th>[Cypriot pound ]</th>\n",
       "      <th>[Czech koruna ]</th>\n",
       "      <th>[Danish krone ]</th>\n",
       "      <th>...</th>\n",
       "      <th>[Romanian leu ]</th>\n",
       "      <th>[Russian rouble ]</th>\n",
       "      <th>[Swedish krona ]</th>\n",
       "      <th>[Singapore dollar ]</th>\n",
       "      <th>[Slovenian tolar ]</th>\n",
       "      <th>[Slovak koruna ]</th>\n",
       "      <th>[Thai baht ]</th>\n",
       "      <th>[Turkish lira ]</th>\n",
       "      <th>US_dollar</th>\n",
       "      <th>[South African rand ]</th>\n",
       "    </tr>\n",
       "  </thead>\n",
       "  <tbody>\n",
       "    <tr>\n",
       "      <th>0</th>\n",
       "      <td>1999-01-04</td>\n",
       "      <td>1.9100</td>\n",
       "      <td>NaN</td>\n",
       "      <td>NaN</td>\n",
       "      <td>1.8004</td>\n",
       "      <td>1.6168</td>\n",
       "      <td>NaN</td>\n",
       "      <td>0.58231</td>\n",
       "      <td>35.107</td>\n",
       "      <td>7.4501</td>\n",
       "      <td>...</td>\n",
       "      <td>1.3111</td>\n",
       "      <td>25.2875</td>\n",
       "      <td>9.4696</td>\n",
       "      <td>1.9554</td>\n",
       "      <td>189.0450</td>\n",
       "      <td>42.991</td>\n",
       "      <td>42.6799</td>\n",
       "      <td>0.3723</td>\n",
       "      <td>1.1789</td>\n",
       "      <td>6.9358</td>\n",
       "    </tr>\n",
       "    <tr>\n",
       "      <th>1</th>\n",
       "      <td>1999-01-05</td>\n",
       "      <td>1.8944</td>\n",
       "      <td>NaN</td>\n",
       "      <td>NaN</td>\n",
       "      <td>1.7965</td>\n",
       "      <td>1.6123</td>\n",
       "      <td>NaN</td>\n",
       "      <td>0.58230</td>\n",
       "      <td>34.917</td>\n",
       "      <td>7.4495</td>\n",
       "      <td>...</td>\n",
       "      <td>1.3168</td>\n",
       "      <td>26.5876</td>\n",
       "      <td>9.4025</td>\n",
       "      <td>1.9655</td>\n",
       "      <td>188.7750</td>\n",
       "      <td>42.848</td>\n",
       "      <td>42.5048</td>\n",
       "      <td>0.3728</td>\n",
       "      <td>1.1790</td>\n",
       "      <td>6.7975</td>\n",
       "    </tr>\n",
       "    <tr>\n",
       "      <th>2</th>\n",
       "      <td>1999-01-06</td>\n",
       "      <td>1.8820</td>\n",
       "      <td>NaN</td>\n",
       "      <td>NaN</td>\n",
       "      <td>1.7711</td>\n",
       "      <td>1.6116</td>\n",
       "      <td>NaN</td>\n",
       "      <td>0.58200</td>\n",
       "      <td>34.850</td>\n",
       "      <td>7.4452</td>\n",
       "      <td>...</td>\n",
       "      <td>1.3168</td>\n",
       "      <td>27.4315</td>\n",
       "      <td>9.3050</td>\n",
       "      <td>1.9699</td>\n",
       "      <td>188.7000</td>\n",
       "      <td>42.778</td>\n",
       "      <td>42.6949</td>\n",
       "      <td>0.3722</td>\n",
       "      <td>1.1743</td>\n",
       "      <td>6.7307</td>\n",
       "    </tr>\n",
       "    <tr>\n",
       "      <th>3</th>\n",
       "      <td>1999-01-07</td>\n",
       "      <td>1.8474</td>\n",
       "      <td>NaN</td>\n",
       "      <td>NaN</td>\n",
       "      <td>1.7602</td>\n",
       "      <td>1.6165</td>\n",
       "      <td>NaN</td>\n",
       "      <td>0.58187</td>\n",
       "      <td>34.886</td>\n",
       "      <td>7.4431</td>\n",
       "      <td>...</td>\n",
       "      <td>1.3092</td>\n",
       "      <td>26.9876</td>\n",
       "      <td>9.1800</td>\n",
       "      <td>1.9436</td>\n",
       "      <td>188.8000</td>\n",
       "      <td>42.765</td>\n",
       "      <td>42.1678</td>\n",
       "      <td>0.3701</td>\n",
       "      <td>1.1632</td>\n",
       "      <td>6.8283</td>\n",
       "    </tr>\n",
       "    <tr>\n",
       "      <th>4</th>\n",
       "      <td>1999-01-08</td>\n",
       "      <td>1.8406</td>\n",
       "      <td>NaN</td>\n",
       "      <td>NaN</td>\n",
       "      <td>1.7643</td>\n",
       "      <td>1.6138</td>\n",
       "      <td>NaN</td>\n",
       "      <td>0.58187</td>\n",
       "      <td>34.938</td>\n",
       "      <td>7.4433</td>\n",
       "      <td>...</td>\n",
       "      <td>1.3143</td>\n",
       "      <td>27.2075</td>\n",
       "      <td>9.1650</td>\n",
       "      <td>1.9537</td>\n",
       "      <td>188.8400</td>\n",
       "      <td>42.560</td>\n",
       "      <td>42.5590</td>\n",
       "      <td>0.3718</td>\n",
       "      <td>1.1659</td>\n",
       "      <td>6.7855</td>\n",
       "    </tr>\n",
       "  </tbody>\n",
       "</table>\n",
       "<p>5 rows × 41 columns</p>\n",
       "</div>"
      ],
      "text/plain": [
       "        Time [Australian dollar ] [Bulgarian lev ] [Brazilian real ]  \\\n",
       "0 1999-01-04               1.9100              NaN               NaN   \n",
       "1 1999-01-05               1.8944              NaN               NaN   \n",
       "2 1999-01-06               1.8820              NaN               NaN   \n",
       "3 1999-01-07               1.8474              NaN               NaN   \n",
       "4 1999-01-08               1.8406              NaN               NaN   \n",
       "\n",
       "  [Canadian dollar ] [Swiss franc ] [Chinese yuan renminbi ] [Cypriot pound ]  \\\n",
       "0             1.8004         1.6168                      NaN          0.58231   \n",
       "1             1.7965         1.6123                      NaN          0.58230   \n",
       "2             1.7711         1.6116                      NaN          0.58200   \n",
       "3             1.7602         1.6165                      NaN          0.58187   \n",
       "4             1.7643         1.6138                      NaN          0.58187   \n",
       "\n",
       "  [Czech koruna ] [Danish krone ]  ... [Romanian leu ] [Russian rouble ]  \\\n",
       "0          35.107          7.4501  ...          1.3111           25.2875   \n",
       "1          34.917          7.4495  ...          1.3168           26.5876   \n",
       "2          34.850          7.4452  ...          1.3168           27.4315   \n",
       "3          34.886          7.4431  ...          1.3092           26.9876   \n",
       "4          34.938          7.4433  ...          1.3143           27.2075   \n",
       "\n",
       "  [Swedish krona ] [Singapore dollar ] [Slovenian tolar ] [Slovak koruna ]  \\\n",
       "0           9.4696              1.9554           189.0450           42.991   \n",
       "1           9.4025              1.9655           188.7750           42.848   \n",
       "2           9.3050              1.9699           188.7000           42.778   \n",
       "3           9.1800              1.9436           188.8000           42.765   \n",
       "4           9.1650              1.9537           188.8400           42.560   \n",
       "\n",
       "  [Thai baht ] [Turkish lira ] US_dollar  [South African rand ]  \n",
       "0      42.6799          0.3723    1.1789                 6.9358  \n",
       "1      42.5048          0.3728    1.1790                 6.7975  \n",
       "2      42.6949          0.3722    1.1743                 6.7307  \n",
       "3      42.1678          0.3701    1.1632                 6.8283  \n",
       "4      42.5590          0.3718    1.1659                 6.7855  \n",
       "\n",
       "[5 rows x 41 columns]"
      ]
     },
     "execution_count": 22,
     "metadata": {},
     "output_type": "execute_result"
    }
   ],
   "source": [
    "exchange_rates.head()"
   ]
  },
  {
   "cell_type": "markdown",
   "metadata": {},
   "source": [
    "Now we can isolate the `Time` and `US_dollar` columns."
   ]
  },
  {
   "cell_type": "code",
   "execution_count": 23,
   "metadata": {},
   "outputs": [
    {
     "data": {
      "text/html": [
       "<div>\n",
       "<style scoped>\n",
       "    .dataframe tbody tr th:only-of-type {\n",
       "        vertical-align: middle;\n",
       "    }\n",
       "\n",
       "    .dataframe tbody tr th {\n",
       "        vertical-align: top;\n",
       "    }\n",
       "\n",
       "    .dataframe thead th {\n",
       "        text-align: right;\n",
       "    }\n",
       "</style>\n",
       "<table border=\"1\" class=\"dataframe\">\n",
       "  <thead>\n",
       "    <tr style=\"text-align: right;\">\n",
       "      <th></th>\n",
       "      <th>Time</th>\n",
       "      <th>US_dollar</th>\n",
       "    </tr>\n",
       "  </thead>\n",
       "  <tbody>\n",
       "    <tr>\n",
       "      <th>0</th>\n",
       "      <td>1999-01-04</td>\n",
       "      <td>1.1789</td>\n",
       "    </tr>\n",
       "    <tr>\n",
       "      <th>1</th>\n",
       "      <td>1999-01-05</td>\n",
       "      <td>1.1790</td>\n",
       "    </tr>\n",
       "    <tr>\n",
       "      <th>2</th>\n",
       "      <td>1999-01-06</td>\n",
       "      <td>1.1743</td>\n",
       "    </tr>\n",
       "    <tr>\n",
       "      <th>3</th>\n",
       "      <td>1999-01-07</td>\n",
       "      <td>1.1632</td>\n",
       "    </tr>\n",
       "    <tr>\n",
       "      <th>4</th>\n",
       "      <td>1999-01-08</td>\n",
       "      <td>1.1659</td>\n",
       "    </tr>\n",
       "  </tbody>\n",
       "</table>\n",
       "</div>"
      ],
      "text/plain": [
       "        Time US_dollar\n",
       "0 1999-01-04    1.1789\n",
       "1 1999-01-05    1.1790\n",
       "2 1999-01-06    1.1743\n",
       "3 1999-01-07    1.1632\n",
       "4 1999-01-08    1.1659"
      ]
     },
     "execution_count": 23,
     "metadata": {},
     "output_type": "execute_result"
    }
   ],
   "source": [
    "euro_to_dollar = exchange_rates[[\"Time\", \"US_dollar\"]]\n",
    "euro_to_dollar.head()"
   ]
  },
  {
   "cell_type": "code",
   "execution_count": 24,
   "metadata": {},
   "outputs": [
    {
     "data": {
      "text/plain": [
       "-         62\n",
       "1.2276     9\n",
       "1.1215     8\n",
       "1.1305     7\n",
       "1.3086     6\n",
       "          ..\n",
       "0.8436     1\n",
       "1.4350     1\n",
       "1.0342     1\n",
       "1.4554     1\n",
       "0.8990     1\n",
       "Name: US_dollar, Length: 3528, dtype: int64"
      ]
     },
     "execution_count": 24,
     "metadata": {},
     "output_type": "execute_result"
    }
   ],
   "source": [
    "euro_to_dollar[\"US_dollar\"].value_counts()"
   ]
  },
  {
   "cell_type": "code",
   "execution_count": 25,
   "metadata": {},
   "outputs": [],
   "source": [
    "euro_to_dollar = euro_to_dollar[euro_to_dollar.US_dollar != \"-\"]"
   ]
  },
  {
   "cell_type": "code",
   "execution_count": 26,
   "metadata": {},
   "outputs": [
    {
     "name": "stdout",
     "output_type": "stream",
     "text": [
      "<class 'pandas.core.frame.DataFrame'>\n",
      "Int64Index: 5637 entries, 0 to 5698\n",
      "Data columns (total 2 columns):\n",
      " #   Column     Non-Null Count  Dtype         \n",
      "---  ------     --------------  -----         \n",
      " 0   Time       5637 non-null   datetime64[ns]\n",
      " 1   US_dollar  5637 non-null   object        \n",
      "dtypes: datetime64[ns](1), object(1)\n",
      "memory usage: 132.1+ KB\n"
     ]
    }
   ],
   "source": [
    "euro_to_dollar.info()"
   ]
  },
  {
   "cell_type": "code",
   "execution_count": 27,
   "metadata": {},
   "outputs": [
    {
     "data": {
      "text/plain": [
       "0       1.1789\n",
       "1       1.1790\n",
       "2       1.1743\n",
       "3       1.1632\n",
       "4       1.1659\n",
       "         ...  \n",
       "5694    1.2296\n",
       "5695    1.2271\n",
       "5696    1.2338\n",
       "5697    1.2276\n",
       "5698    1.2250\n",
       "Name: US_dollar, Length: 5637, dtype: float64"
      ]
     },
     "execution_count": 27,
     "metadata": {},
     "output_type": "execute_result"
    }
   ],
   "source": [
    "euro_to_dollar[\"US_dollar\"].astype(float)"
   ]
  },
  {
   "cell_type": "markdown",
   "metadata": {},
   "source": [
    "Now that our new dataframe is clean, we can start visualising the evolution of the euro-dollar exchange rate."
   ]
  },
  {
   "cell_type": "code",
   "execution_count": 28,
   "metadata": {},
   "outputs": [],
   "source": [
    "import matplotlib.pyplot as plt\n",
    "%matplotlib inline"
   ]
  },
  {
   "cell_type": "markdown",
   "metadata": {},
   "source": [
    "First well, calculate the rolling mean of the `US_dollar` column. To make the graph smoother as increase the data-ink ratio."
   ]
  },
  {
   "cell_type": "code",
   "execution_count": 29,
   "metadata": {},
   "outputs": [],
   "source": [
    "euro_to_dollar[\"rolling_mean\"] = euro_to_dollar[\"US_dollar\"].rolling(30).mean()"
   ]
  },
  {
   "cell_type": "markdown",
   "metadata": {},
   "source": []
  },
  {
   "cell_type": "code",
   "execution_count": 30,
   "metadata": {},
   "outputs": [
    {
     "data": {
      "image/png": "[encoded data removed]",
      "text/plain": [
       "<Figure size 600x400 with 1 Axes>"
      ]
     },
     "metadata": {},
     "output_type": "display_data"
    }
   ],
   "source": [
    "plt.plot(euro_to_dollar['Time'], euro_to_dollar['rolling_mean'])\n",
    "plt.show()"
   ]
  },
  {
   "cell_type": "markdown",
   "metadata": {},
   "source": [
    "Now that we have our exploratory graph, we can use it to tell a story. For this project we will show how the euro-dollar rate changed during the coronovirus pandemic."
   ]
  },
  {
   "cell_type": "code",
   "execution_count": 31,
   "metadata": {},
   "outputs": [],
   "source": [
    "euro_to_dollar_2019_bool = (euro_to_dollar[\"Time\"] >= pd.Timestamp(\"2019-01-01\")) & (euro_to_dollar[\"Time\"] < pd.Timestamp(\"2020-01-01\"))"
   ]
  },
  {
   "cell_type": "markdown",
   "metadata": {},
   "source": [
    "First we're going to plot the graph for 2019-2020, then 2020-2021 and compare the results."
   ]
  },
  {
   "cell_type": "code",
   "execution_count": 32,
   "metadata": {},
   "outputs": [
    {
     "ename": "NameError",
     "evalue": "name 'euro_to_dollar_2019' is not defined",
     "output_type": "error",
     "traceback": [
      "\u001b[0;31m---------------------------------------------------------------------------\u001b[0m",
      "\u001b[0;31mNameError\u001b[0m                                 Traceback (most recent call last)",
      "\u001b[0;32m<ipython-input-32-91461ac52f6b>\u001b[0m in \u001b[0;36m<module>\u001b[0;34m\u001b[0m\n\u001b[0;32m----> 1\u001b[0;31m \u001b[0meuro_to_dollar_2019\u001b[0m\u001b[0;34m.\u001b[0m\u001b[0mhead\u001b[0m\u001b[0;34m(\u001b[0m\u001b[0;34m)\u001b[0m\u001b[0;34m\u001b[0m\u001b[0;34m\u001b[0m\u001b[0m\n\u001b[0m",
      "\u001b[0;31mNameError\u001b[0m: name 'euro_to_dollar_2019' is not defined"
     ]
    }
   ],
   "source": [
    "euro_to_dollar_2019.head()"
   ]
  },
  {
   "cell_type": "code",
   "execution_count": 33,
   "metadata": {},
   "outputs": [],
   "source": [
    "euro_to_dollar_2019 = euro_to_dollar.loc[euro_to_dollar_2019_bool]"
   ]
  },
  {
   "cell_type": "code",
   "execution_count": 34,
   "metadata": {},
   "outputs": [
    {
     "data": {
      "text/html": [
       "<div>\n",
       "<style scoped>\n",
       "    .dataframe tbody tr th:only-of-type {\n",
       "        vertical-align: middle;\n",
       "    }\n",
       "\n",
       "    .dataframe tbody tr th {\n",
       "        vertical-align: top;\n",
       "    }\n",
       "\n",
       "    .dataframe thead th {\n",
       "        text-align: right;\n",
       "    }\n",
       "</style>\n",
       "<table border=\"1\" class=\"dataframe\">\n",
       "  <thead>\n",
       "    <tr style=\"text-align: right;\">\n",
       "      <th></th>\n",
       "      <th>Time</th>\n",
       "      <th>US_dollar</th>\n",
       "      <th>rolling_mean</th>\n",
       "    </tr>\n",
       "  </thead>\n",
       "  <tbody>\n",
       "    <tr>\n",
       "      <th>5182</th>\n",
       "      <td>2019-01-02</td>\n",
       "      <td>1.1397</td>\n",
       "      <td>1.138100</td>\n",
       "    </tr>\n",
       "    <tr>\n",
       "      <th>5183</th>\n",
       "      <td>2019-01-03</td>\n",
       "      <td>1.1348</td>\n",
       "      <td>1.137837</td>\n",
       "    </tr>\n",
       "    <tr>\n",
       "      <th>5184</th>\n",
       "      <td>2019-01-04</td>\n",
       "      <td>1.1403</td>\n",
       "      <td>1.137777</td>\n",
       "    </tr>\n",
       "    <tr>\n",
       "      <th>5185</th>\n",
       "      <td>2019-01-07</td>\n",
       "      <td>1.1445</td>\n",
       "      <td>1.137897</td>\n",
       "    </tr>\n",
       "    <tr>\n",
       "      <th>5186</th>\n",
       "      <td>2019-01-08</td>\n",
       "      <td>1.1440</td>\n",
       "      <td>1.138020</td>\n",
       "    </tr>\n",
       "    <tr>\n",
       "      <th>...</th>\n",
       "      <td>...</td>\n",
       "      <td>...</td>\n",
       "      <td>...</td>\n",
       "    </tr>\n",
       "    <tr>\n",
       "      <th>5432</th>\n",
       "      <td>2019-12-23</td>\n",
       "      <td>1.1075</td>\n",
       "      <td>1.106783</td>\n",
       "    </tr>\n",
       "    <tr>\n",
       "      <th>5433</th>\n",
       "      <td>2019-12-24</td>\n",
       "      <td>1.1080</td>\n",
       "      <td>1.107000</td>\n",
       "    </tr>\n",
       "    <tr>\n",
       "      <th>5434</th>\n",
       "      <td>2019-12-27</td>\n",
       "      <td>1.1153</td>\n",
       "      <td>1.107490</td>\n",
       "    </tr>\n",
       "    <tr>\n",
       "      <th>5435</th>\n",
       "      <td>2019-12-30</td>\n",
       "      <td>1.1189</td>\n",
       "      <td>1.108130</td>\n",
       "    </tr>\n",
       "    <tr>\n",
       "      <th>5436</th>\n",
       "      <td>2019-12-31</td>\n",
       "      <td>1.1234</td>\n",
       "      <td>1.108797</td>\n",
       "    </tr>\n",
       "  </tbody>\n",
       "</table>\n",
       "<p>255 rows × 3 columns</p>\n",
       "</div>"
      ],
      "text/plain": [
       "           Time US_dollar  rolling_mean\n",
       "5182 2019-01-02    1.1397      1.138100\n",
       "5183 2019-01-03    1.1348      1.137837\n",
       "5184 2019-01-04    1.1403      1.137777\n",
       "5185 2019-01-07    1.1445      1.137897\n",
       "5186 2019-01-08    1.1440      1.138020\n",
       "...         ...       ...           ...\n",
       "5432 2019-12-23    1.1075      1.106783\n",
       "5433 2019-12-24    1.1080      1.107000\n",
       "5434 2019-12-27    1.1153      1.107490\n",
       "5435 2019-12-30    1.1189      1.108130\n",
       "5436 2019-12-31    1.1234      1.108797\n",
       "\n",
       "[255 rows x 3 columns]"
      ]
     },
     "metadata": {},
     "output_type": "display_data"
    }
   ],
   "source": [
    "display(euro_to_dollar_2019)"
   ]
  },
  {
   "cell_type": "code",
   "execution_count": 35,
   "metadata": {},
   "outputs": [
    {
     "data": {
      "image/png": "[encoded data removed]",
      "text/plain": [
       "<Figure size 600x400 with 1 Axes>"
      ]
     },
     "metadata": {},
     "output_type": "display_data"
    }
   ],
   "source": [
    "plt.plot(euro_to_dollar_2019['Time'], euro_to_dollar_2019['rolling_mean'])\n",
    "plt.show()"
   ]
  },
  {
   "cell_type": "markdown",
   "metadata": {},
   "source": [
    "The graph shows that there was a gradual decline in the euro value throughout 2019 that started increasing towards the end.\n",
    "\n",
    "Now let's plot the graph of 2020 to 2021."
   ]
  },
  {
   "cell_type": "code",
   "execution_count": 36,
   "metadata": {},
   "outputs": [],
   "source": [
    "euro_to_dollar_2020_bool = (euro_to_dollar[\"Time\"] >= pd.Timestamp(\"2020-01-01\")) & (euro_to_dollar[\"Time\"] < pd.Timestamp(\"2021-01-01\"))\n",
    "euro_to_dollar_2020 = euro_to_dollar[euro_to_dollar_2020_bool]"
   ]
  },
  {
   "cell_type": "code",
   "execution_count": 37,
   "metadata": {},
   "outputs": [
    {
     "data": {
      "text/html": [
       "<div>\n",
       "<style scoped>\n",
       "    .dataframe tbody tr th:only-of-type {\n",
       "        vertical-align: middle;\n",
       "    }\n",
       "\n",
       "    .dataframe tbody tr th {\n",
       "        vertical-align: top;\n",
       "    }\n",
       "\n",
       "    .dataframe thead th {\n",
       "        text-align: right;\n",
       "    }\n",
       "</style>\n",
       "<table border=\"1\" class=\"dataframe\">\n",
       "  <thead>\n",
       "    <tr style=\"text-align: right;\">\n",
       "      <th></th>\n",
       "      <th>Time</th>\n",
       "      <th>US_dollar</th>\n",
       "      <th>rolling_mean</th>\n",
       "    </tr>\n",
       "  </thead>\n",
       "  <tbody>\n",
       "    <tr>\n",
       "      <th>5437</th>\n",
       "      <td>2020-01-02</td>\n",
       "      <td>1.1193</td>\n",
       "      <td>1.109237</td>\n",
       "    </tr>\n",
       "    <tr>\n",
       "      <th>5438</th>\n",
       "      <td>2020-01-03</td>\n",
       "      <td>1.1147</td>\n",
       "      <td>1.109470</td>\n",
       "    </tr>\n",
       "    <tr>\n",
       "      <th>5439</th>\n",
       "      <td>2020-01-06</td>\n",
       "      <td>1.1194</td>\n",
       "      <td>1.109920</td>\n",
       "    </tr>\n",
       "    <tr>\n",
       "      <th>5440</th>\n",
       "      <td>2020-01-07</td>\n",
       "      <td>1.1172</td>\n",
       "      <td>1.110190</td>\n",
       "    </tr>\n",
       "    <tr>\n",
       "      <th>5441</th>\n",
       "      <td>2020-01-08</td>\n",
       "      <td>1.1115</td>\n",
       "      <td>1.110380</td>\n",
       "    </tr>\n",
       "  </tbody>\n",
       "</table>\n",
       "</div>"
      ],
      "text/plain": [
       "           Time US_dollar  rolling_mean\n",
       "5437 2020-01-02    1.1193      1.109237\n",
       "5438 2020-01-03    1.1147      1.109470\n",
       "5439 2020-01-06    1.1194      1.109920\n",
       "5440 2020-01-07    1.1172      1.110190\n",
       "5441 2020-01-08    1.1115      1.110380"
      ]
     },
     "execution_count": 37,
     "metadata": {},
     "output_type": "execute_result"
    }
   ],
   "source": [
    "euro_to_dollar_2020.head()"
   ]
  },
  {
   "cell_type": "code",
   "execution_count": 38,
   "metadata": {},
   "outputs": [
    {
     "data": {
      "image/png": "[encoded data removed]",
      "text/plain": [
       "<Figure size 600x400 with 1 Axes>"
      ]
     },
     "metadata": {},
     "output_type": "display_data"
    }
   ],
   "source": [
    "plt.plot(euro_to_dollar_2020['Time'], euro_to_dollar_2020['rolling_mean'])\n",
    "plt.show()"
   ]
  },
  {
   "cell_type": "markdown",
   "metadata": {},
   "source": [
    "The graph shows that the euro continued to decline further with the lowest point being during May 2020, a few months into the first lockdown depending on where you lived in Europe."
   ]
  },
  {
   "cell_type": "code",
   "execution_count": 39,
   "metadata": {},
   "outputs": [],
   "source": [
    "euro_to_dollar_full_bool = euro_to_dollar[\"Time\"] >= pd.Timestamp(\"2019-01-01\")\n",
    "euro_to_dollar_full = euro_to_dollar[euro_to_dollar_full_bool]"
   ]
  },
  {
   "cell_type": "code",
   "execution_count": 40,
   "metadata": {},
   "outputs": [
    {
     "data": {
      "image/png": "[encoded data removed]",
      "text/plain": [
       "<Figure size 600x400 with 1 Axes>"
      ]
     },
     "metadata": {},
     "output_type": "display_data"
    }
   ],
   "source": [
    "plt.plot(euro_to_dollar_full[\"Time\"], euro_to_dollar_full[\"rolling_mean\"])\n",
    "plt.xticks(rotation=30)\n",
    "plt.show()"
   ]
  },
  {
   "cell_type": "markdown",
   "metadata": {},
   "source": [
    "preliminary graph"
   ]
  },
  {
   "cell_type": "code",
   "execution_count": 146,
   "metadata": {},
   "outputs": [
    {
     "data": {
      "image/png": "[encoded data removed]",
      "text/plain": [
       "<Figure size 1200x600 with 3 Axes>"
      ]
     },
     "metadata": {},
     "output_type": "display_data"
    }
   ],
   "source": [
    "import matplotlib.dates as mdates\n",
    "import matplotlib.style as style\n",
    "\n",
    "style.use(\"fivethirtyeight\")\n",
    "plt.figure(figsize=(12, 6))\n",
    "ax1 = plt.subplot(2,2,1)\n",
    "ax2 = plt.subplot(2,2,2)\n",
    "ax3 = plt.subplot(2,1,2)\n",
    "\n",
    "axes = [ax1, ax2, ax3]\n",
    "\n",
    "#2019 plot\n",
    "ax1.plot(euro_to_dollar_2019[\"Time\"], euro_to_dollar_2019[\"rolling_mean\"],\n",
    "         color=\"red\")\n",
    "ax1.set_xticklabels([\"2019-01\", \"\", \"2019-05\", \"\", \"2019-09\", \"\",\n",
    "                     \"2020-01\"], alpha=0.5)\n",
    "ax1.text(x=737060, y=1.33, s=\"\"\"EURO-USD exchange rates between 2019 - 2021\"\"\",\n",
    "        weight=\"bold\", size=20)\n",
    "ax1.text(x=737060, y=1.3, s=\"\"\"The value of the euro increased signifcantly after the coronavirus pandemic.\"\"\")\n",
    "ax1.text(x=737220, y=1.27, s=\"2019\", weight=\"bold\", color=\"red\")\n",
    "\n",
    "#2020 plot\n",
    "ax2.plot(euro_to_dollar_2020[\"Time\"], euro_to_dollar_2020[\"rolling_mean\"],\n",
    "         color=\"green\")\n",
    "ax2.set_xticklabels([\"2020-01\", \"\", \"2020-05\", \"\", \"2020-09\", \"\",\n",
    "                     \"2021-01\"], alpha=0.5)\n",
    "ax2.text(x=737580, y=1.27, s=\"2020\", weight=\"bold\", color=\"green\")\n",
    "\n",
    "#full plot\n",
    "ax3.plot(euro_to_dollar_full[\"Time\"], euro_to_dollar_full[\"rolling_mean\"],\n",
    "         color=\"blue\")\n",
    "ax3.set_xticklabels([])\n",
    "ax3.axvspan(xmin=737516, xmax=737699, ymax=0.75,\n",
    "           alpha=0.3, color='grey')\n",
    "\n",
    "for ax in axes:\n",
    "    ax.set_ylim(1.05,1.25)\n",
    "    ax.set_yticklabels([\"\", \"1.10\", \"\", \"1.20\", \"\"], alpha=0.5)\n",
    "\n",
    "# print(ax.get_xticks())\n",
    "# print(ax.get_yticks())\n",
    "plt.show()"
   ]
  },
  {
   "cell_type": "markdown",
   "metadata": {},
   "source": [
    "### Interpretation"
   ]
  },
  {
   "cell_type": "markdown",
   "metadata": {},
   "source": [
    "The figure above shows that the the price of the euro was gradually decling before the pandemic. However, less than three months after the first lockdown (March 2020) the value of the euro sharply increases. The data suggests that the value of the USD suffered throughout the first year of the pandemic."
   ]
  }
 ],
 "metadata": {
  "kernelspec": {
   "display_name": "Python 3",
   "language": "python",
   "name": "python3"
  },
  "language_info": {
   "codemirror_mode": {
    "name": "ipython",
    "version": 3
   },
   "file_extension": ".py",
   "mimetype": "text/x-python",
   "name": "python",
   "nbconvert_exporter": "python",
   "pygments_lexer": "ipython3",
   "version": "3.8.2"
  }
 },
 "nbformat": 4,
 "nbformat_minor": 4
}
